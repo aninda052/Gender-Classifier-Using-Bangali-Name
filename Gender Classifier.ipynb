{
 "cells": [
  {
   "cell_type": "code",
   "execution_count": 1,
   "metadata": {},
   "outputs": [],
   "source": [
    "from json import load\n",
    "import random\n",
    "import re\n",
    "import csv"
   ]
  },
  {
   "cell_type": "code",
   "execution_count": 2,
   "metadata": {},
   "outputs": [],
   "source": [
    "with open('banglaNames.json') as file:\n",
    "    names = load(file)\n",
    "file.close()"
   ]
  },
  {
   "cell_type": "code",
   "execution_count": 3,
   "metadata": {},
   "outputs": [
    {
     "data": {
      "text/plain": [
       "dict"
      ]
     },
     "execution_count": 3,
     "metadata": {},
     "output_type": "execute_result"
    }
   ],
   "source": [
    "type(names)"
   ]
  },
  {
   "cell_type": "code",
   "execution_count": 4,
   "metadata": {},
   "outputs": [
    {
     "data": {
      "text/plain": [
       "dict_keys(['male', 'female'])"
      ]
     },
     "execution_count": 4,
     "metadata": {},
     "output_type": "execute_result"
    }
   ],
   "source": [
    "names.keys()"
   ]
  },
  {
   "cell_type": "code",
   "execution_count": 5,
   "metadata": {},
   "outputs": [
    {
     "data": {
      "text/plain": [
       "['Aabhas  আভাস', 'Aabhat  আভাত', 'Aabheer  আভীর']"
      ]
     },
     "execution_count": 5,
     "metadata": {},
     "output_type": "execute_result"
    }
   ],
   "source": [
    "names['male'][:3]"
   ]
  },
  {
   "cell_type": "code",
   "execution_count": 6,
   "metadata": {},
   "outputs": [
    {
     "data": {
      "text/plain": [
       "['Aabha  আভা', 'Aabharana  আভরণ', 'Aabheri  আভেরী']"
      ]
     },
     "execution_count": 6,
     "metadata": {},
     "output_type": "execute_result"
    }
   ],
   "source": [
    "names['female'][:3]"
   ]
  },
  {
   "cell_type": "code",
   "execution_count": 7,
   "metadata": {},
   "outputs": [],
   "source": [
    "with open('Name and Gender pair.csv', 'r') as file:\n",
    "    reader = csv.reader(file)\n",
    "    allNames = [row for row in reader]\n",
    "file.close()"
   ]
  },
  {
   "cell_type": "code",
   "execution_count": 8,
   "metadata": {},
   "outputs": [],
   "source": [
    "allNames = [((re.sub(r'[^a-zA-Z]', '', name)).lower(),1 if row[1].lower()=='male' else 0)  for row in allNames  for name in row[0].split()]"
   ]
  },
  {
   "cell_type": "code",
   "execution_count": 9,
   "metadata": {},
   "outputs": [
    {
     "data": {
      "text/plain": [
       "[('md', 1), ('mynul', 1), ('hoq', 1), ('mohammad', 1), ('abdulla', 1)]"
      ]
     },
     "execution_count": 9,
     "metadata": {},
     "output_type": "execute_result"
    }
   ],
   "source": [
    "allNames[:5]"
   ]
  },
  {
   "cell_type": "code",
   "execution_count": 10,
   "metadata": {},
   "outputs": [],
   "source": [
    "allNames.extend([ ((re.sub(r'[^a-zA-Z]', '', names)).lower(),1) for names in names['male']])\n",
    "allNames.extend([ ((re.sub(r'[^a-zA-Z]', '', names)).lower(),0) for names in names['female']])"
   ]
  },
  {
   "cell_type": "code",
   "execution_count": 11,
   "metadata": {},
   "outputs": [
    {
     "data": {
      "text/plain": [
       "197421"
      ]
     },
     "execution_count": 11,
     "metadata": {},
     "output_type": "execute_result"
    }
   ],
   "source": [
    "len(allNames)"
   ]
  },
  {
   "cell_type": "code",
   "execution_count": 12,
   "metadata": {},
   "outputs": [],
   "source": [
    "allNames = list(set(allNames))"
   ]
  },
  {
   "cell_type": "code",
   "execution_count": 13,
   "metadata": {},
   "outputs": [
    {
     "data": {
      "text/plain": [
       "56111"
      ]
     },
     "execution_count": 13,
     "metadata": {},
     "output_type": "execute_result"
    }
   ],
   "source": [
    "len(allNames)"
   ]
  },
  {
   "cell_type": "code",
   "execution_count": 14,
   "metadata": {},
   "outputs": [],
   "source": [
    "random.shuffle(allNames)"
   ]
  },
  {
   "cell_type": "code",
   "execution_count": 15,
   "metadata": {},
   "outputs": [
    {
     "data": {
      "text/plain": [
       "[('navid', 1), ('goshant', 1), ('shibin', 1), ('wajeeda', 0), ('neeja', 0)]"
      ]
     },
     "execution_count": 15,
     "metadata": {},
     "output_type": "execute_result"
    }
   ],
   "source": [
    "allNames[:5]"
   ]
  },
  {
   "cell_type": "code",
   "execution_count": 16,
   "metadata": {},
   "outputs": [],
   "source": [
    "allNames = [(name,gender) for name,gender in allNames if len(name)>1]"
   ]
  },
  {
   "cell_type": "code",
   "execution_count": 17,
   "metadata": {},
   "outputs": [
    {
     "data": {
      "text/plain": [
       "56080"
      ]
     },
     "execution_count": 17,
     "metadata": {},
     "output_type": "execute_result"
    }
   ],
   "source": [
    "len(allNames)"
   ]
  },
  {
   "cell_type": "code",
   "execution_count": 18,
   "metadata": {},
   "outputs": [],
   "source": [
    "names = [name for name,_ in allNames]\n",
    "genders = [gender for _,gender in allNames]"
   ]
  },
  {
   "cell_type": "code",
   "execution_count": 19,
   "metadata": {},
   "outputs": [],
   "source": [
    "from collections import Counter"
   ]
  },
  {
   "cell_type": "code",
   "execution_count": 20,
   "metadata": {},
   "outputs": [],
   "source": [
    "genderCounter = Counter(genders)"
   ]
  },
  {
   "cell_type": "code",
   "execution_count": 21,
   "metadata": {},
   "outputs": [],
   "source": [
    "import matplotlib.pyplot as plt"
   ]
  },
  {
   "cell_type": "code",
   "execution_count": 22,
   "metadata": {},
   "outputs": [
    {
     "data": {
      "image/png": "[encoded data removed]",
      "text/plain": [
       "<matplotlib.figure.Figure at 0x7f6014f2c780>"
      ]
     },
     "metadata": {},
     "output_type": "display_data"
    }
   ],
   "source": [
    "labels = ['Female' if i==0 else 'Male' for i in genderCounter.keys()]\n",
    "value = [i for i in genderCounter.values()]\n",
    "\n",
    "patches,texts,autotexts=plt.pie(value, labels=labels, autopct='%1.1f%%',shadow=True, startangle=180)\n",
    "\n",
    "for i in range(len(labels)):\n",
    "    texts[i].set_fontsize(24)\n",
    "    autotexts[i].set_fontsize(24)\n",
    "plt.axis('equal') \n",
    "fig = plt.gcf()\n",
    "fig.set_size_inches(7,7)\n",
    "plt.show()"
   ]
  },
  {
   "cell_type": "code",
   "execution_count": 23,
   "metadata": {},
   "outputs": [
    {
     "name": "stdout",
     "output_type": "stream",
     "text": [
      "['hiranyadha', 'varesikh', 'jonty', 'ameerhassan', 'saumyi'] [0, 1, 1, 1, 0]\n"
     ]
    }
   ],
   "source": [
    "print(names[-5:],genders[-5:])"
   ]
  },
  {
   "cell_type": "code",
   "execution_count": null,
   "metadata": {},
   "outputs": [],
   "source": []
  },
  {
   "cell_type": "code",
   "execution_count": 152,
   "metadata": {},
   "outputs": [],
   "source": [
    "nGram = 2\n",
    "namesWithnGram = [ ' '.join([name[idx:idx+nGram] for idx in range(len(name)-nGram+1)]) for name in names ]"
   ]
  },
  {
   "cell_type": "code",
   "execution_count": 25,
   "metadata": {},
   "outputs": [],
   "source": [
    "from sklearn.model_selection import train_test_split"
   ]
  },
  {
   "cell_type": "code",
   "execution_count": 161,
   "metadata": {},
   "outputs": [],
   "source": [
    "train_X,test_X,train_Y,test_Y=train_test_split(namesWithnGram,genders,test_size=0.2)"
   ]
  },
  {
   "cell_type": "code",
   "execution_count": 162,
   "metadata": {},
   "outputs": [
    {
     "data": {
      "text/plain": [
       "Counter({0: 18448, 1: 26416})"
      ]
     },
     "execution_count": 162,
     "metadata": {},
     "output_type": "execute_result"
    }
   ],
   "source": [
    "Counter(train_Y)"
   ]
  },
  {
   "cell_type": "code",
   "execution_count": 73,
   "metadata": {},
   "outputs": [],
   "source": [
    "from keras.preprocessing.text import Tokenizer"
   ]
  },
  {
   "cell_type": "code",
   "execution_count": 163,
   "metadata": {},
   "outputs": [],
   "source": [
    "tokenizer=Tokenizer()\n",
    "tokenizer.fit_on_texts(train_X)"
   ]
  },
  {
   "cell_type": "code",
   "execution_count": 164,
   "metadata": {},
   "outputs": [
    {
     "name": "stdout",
     "output_type": "stream",
     "text": [
      "598\n"
     ]
    }
   ],
   "source": [
    "word_to_index=tokenizer.word_index\n",
    "index_to_word={ index:word for word,index in word_to_index.items()}\n",
    "vocab_size=len(word_to_index)\n",
    "print(vocab_size)"
   ]
  },
  {
   "cell_type": "code",
   "execution_count": 165,
   "metadata": {},
   "outputs": [],
   "source": [
    "train_sequence_text=tokenizer.texts_to_sequences(train_X)\n",
    "test_sequence_text=tokenizer.texts_to_sequences(test_X)"
   ]
  },
  {
   "cell_type": "code",
   "execution_count": 39,
   "metadata": {},
   "outputs": [],
   "source": [
    "from seaborn import distplot"
   ]
  },
  {
   "cell_type": "code",
   "execution_count": 166,
   "metadata": {},
   "outputs": [
    {
     "data": {
      "text/plain": [
       "<matplotlib.axes._subplots.AxesSubplot at 0x7f5fa63d5208>"
      ]
     },
     "execution_count": 166,
     "metadata": {},
     "output_type": "execute_result"
    },
    {
     "data": {
      "image/png": "[encoded data removed]",
      "text/plain": [
       "<matplotlib.figure.Figure at 0x7f5fa63f3668>"
      ]
     },
     "metadata": {},
     "output_type": "display_data"
    }
   ],
   "source": [
    "nameLength = [len(token) for token in train_sequence_text]\n",
    "distplot(nameLength,kde=True)"
   ]
  },
  {
   "cell_type": "code",
   "execution_count": 31,
   "metadata": {},
   "outputs": [
    {
     "name": "stderr",
     "output_type": "stream",
     "text": [
      "/home/aninda/anaconda3/lib/python3.5/site-packages/h5py/__init__.py:36: FutureWarning: Conversion of the second argument of issubdtype from `float` to `np.floating` is deprecated. In future, it will be treated as `np.float64 == np.dtype(float).type`.\n",
      "  from ._conv import register_converters as _register_converters\n",
      "Using TensorFlow backend.\n"
     ]
    }
   ],
   "source": [
    "from keras.preprocessing.sequence import pad_sequences"
   ]
  },
  {
   "cell_type": "code",
   "execution_count": 167,
   "metadata": {},
   "outputs": [],
   "source": [
    "trainX_pad = pad_sequences(train_sequence_text, maxlen=5, dtype='int32', padding='pre', truncating='pre', value=0)\n",
    "testX_pad = pad_sequences(test_sequence_text, maxlen=5, dtype='int32', padding='pre', truncating='pre', value=0)"
   ]
  },
  {
   "cell_type": "code",
   "execution_count": 54,
   "metadata": {},
   "outputs": [],
   "source": [
    "from imblearn.over_sampling import SMOTE"
   ]
  },
  {
   "cell_type": "code",
   "execution_count": 168,
   "metadata": {},
   "outputs": [],
   "source": [
    "sm=SMOTE(ratio='minority',random_state=1,k_neighbors=7,m_neighbors=10)\n",
    "train_x,train_y = sm.fit_resample(trainX_pad,train_Y)"
   ]
  },
  {
   "cell_type": "code",
   "execution_count": 169,
   "metadata": {},
   "outputs": [
    {
     "data": {
      "text/plain": [
       "Counter({0: 26416, 1: 26416})"
      ]
     },
     "execution_count": 169,
     "metadata": {},
     "output_type": "execute_result"
    }
   ],
   "source": [
    "Counter(train_y)"
   ]
  },
  {
   "cell_type": "code",
   "execution_count": 129,
   "metadata": {},
   "outputs": [],
   "source": [
    "from keras.models import Sequential\n",
    "from keras.layers import Embedding,LSTM,Dense, Activation,Flatten\n",
    "from keras.callbacks import ModelCheckpoint\n",
    "from  keras.utils import to_categorical,plot_model\n",
    "from keras.models import load_model"
   ]
  },
  {
   "cell_type": "code",
   "execution_count": 172,
   "metadata": {},
   "outputs": [
    {
     "name": "stderr",
     "output_type": "stream",
     "text": [
      "/home/aninda/anaconda3/lib/python3.5/site-packages/ipykernel_launcher.py:2: UserWarning: The `dropout` argument is no longer support in `Embedding`. You can apply a `keras.layers.SpatialDropout1D` layer right after the `Embedding` layer to get the same behavior.\n",
      "  \n",
      "/home/aninda/anaconda3/lib/python3.5/site-packages/ipykernel_launcher.py:4: UserWarning: Update your `LSTM` call to the Keras 2 API: `LSTM(8, recurrent_dropout=0.2, return_sequences=True, activation=\"relu\")`\n",
      "  after removing the cwd from sys.path.\n"
     ]
    },
    {
     "name": "stdout",
     "output_type": "stream",
     "text": [
      "_________________________________________________________________\n",
      "Layer (type)                 Output Shape              Param #   \n",
      "=================================================================\n",
      "embedding_16 (Embedding)     (None, 5, 8)              4792      \n",
      "_________________________________________________________________\n",
      "lstm_30 (LSTM)               (None, 5, 8)              544       \n",
      "_________________________________________________________________\n",
      "flatten_14 (Flatten)         (None, 40)                0         \n",
      "_________________________________________________________________\n",
      "dense_27 (Dense)             (None, 4)                 164       \n",
      "_________________________________________________________________\n",
      "dense_28 (Dense)             (None, 2)                 10        \n",
      "=================================================================\n",
      "Total params: 5,510\n",
      "Trainable params: 5,510\n",
      "Non-trainable params: 0\n",
      "_________________________________________________________________\n",
      "None\n"
     ]
    }
   ],
   "source": [
    "model=Sequential()\n",
    "model.add(Embedding(vocab_size+1, 8,input_length = train_x.shape[1], dropout = 0.5))\n",
    "# model.add(LSTM(16,activation='relu',return_sequences=True,dropout_U = 0.2))\n",
    "model.add(LSTM(8,activation='relu',return_sequences=True,dropout_U = 0.2))\n",
    "model.add(Flatten())\n",
    "model.add(Dense(4,activation='relu'))\n",
    "model.add(Dense(2,activation='softmax'))\n",
    "model.compile(loss = 'categorical_crossentropy', optimizer='adadelta',metrics = ['accuracy'])\n",
    "print(model.summary())"
   ]
  },
  {
   "cell_type": "code",
   "execution_count": 173,
   "metadata": {},
   "outputs": [
    {
     "name": "stdout",
     "output_type": "stream",
     "text": [
      "Train on 47548 samples, validate on 5284 samples\n",
      "Epoch 1/15\n",
      "47548/47548 [==============================] - 5s 110us/step - loss: 0.6822 - acc: 0.5660 - val_loss: 0.7303 - val_acc: 0.4217\n",
      "\n",
      "Epoch 00001: val_loss improved from inf to 0.73031, saving model to weights_name.hdf5\n",
      "Epoch 2/15\n",
      "47548/47548 [==============================] - 3s 70us/step - loss: 0.5593 - acc: 0.7212 - val_loss: 0.7236 - val_acc: 0.6215\n",
      "\n",
      "Epoch 00002: val_loss improved from 0.73031 to 0.72359, saving model to weights_name.hdf5\n",
      "Epoch 3/15\n",
      "47548/47548 [==============================] - 3s 71us/step - loss: 0.4948 - acc: 0.7771 - val_loss: 0.6412 - val_acc: 0.6603\n",
      "\n",
      "Epoch 00003: val_loss improved from 0.72359 to 0.64115, saving model to weights_name.hdf5\n",
      "Epoch 4/15\n",
      "47548/47548 [==============================] - 3s 71us/step - loss: 0.4855 - acc: 0.7824 - val_loss: 0.6396 - val_acc: 0.6709\n",
      "\n",
      "Epoch 00004: val_loss improved from 0.64115 to 0.63963, saving model to weights_name.hdf5\n",
      "Epoch 5/15\n",
      "47548/47548 [==============================] - 4s 74us/step - loss: 0.4799 - acc: 0.7843 - val_loss: 0.6167 - val_acc: 0.6779\n",
      "\n",
      "Epoch 00005: val_loss improved from 0.63963 to 0.61669, saving model to weights_name.hdf5\n",
      "Epoch 6/15\n",
      "47548/47548 [==============================] - 4s 74us/step - loss: 0.4767 - acc: 0.7853 - val_loss: 0.7179 - val_acc: 0.6493\n",
      "\n",
      "Epoch 00006: val_loss did not improve\n",
      "Epoch 7/15\n",
      "47548/47548 [==============================] - 4s 77us/step - loss: 0.4735 - acc: 0.7862 - val_loss: 0.5850 - val_acc: 0.6993\n",
      "\n",
      "Epoch 00007: val_loss improved from 0.61669 to 0.58503, saving model to weights_name.hdf5\n",
      "Epoch 8/15\n",
      "47548/47548 [==============================] - 3s 73us/step - loss: 0.4711 - acc: 0.7876 - val_loss: 0.7133 - val_acc: 0.6484\n",
      "\n",
      "Epoch 00008: val_loss did not improve\n",
      "Epoch 9/15\n",
      "47548/47548 [==============================] - 3s 73us/step - loss: 0.4691 - acc: 0.7876 - val_loss: 0.7013 - val_acc: 0.6489\n",
      "\n",
      "Epoch 00009: val_loss did not improve\n",
      "Epoch 10/15\n",
      "47548/47548 [==============================] - 4s 77us/step - loss: 0.4673 - acc: 0.7898 - val_loss: 0.6928 - val_acc: 0.6554\n",
      "\n",
      "Epoch 00010: val_loss did not improve\n",
      "Epoch 11/15\n",
      "47548/47548 [==============================] - 4s 74us/step - loss: 0.4654 - acc: 0.7907 - val_loss: 0.6825 - val_acc: 0.6620\n",
      "\n",
      "Epoch 00011: val_loss did not improve\n",
      "Epoch 12/15\n",
      "47548/47548 [==============================] - 4s 78us/step - loss: 0.4642 - acc: 0.7909 - val_loss: 0.6317 - val_acc: 0.6834\n",
      "\n",
      "Epoch 00012: val_loss did not improve\n",
      "Epoch 13/15\n",
      "47548/47548 [==============================] - 4s 75us/step - loss: 0.4619 - acc: 0.7919 - val_loss: 0.7367 - val_acc: 0.6423\n",
      "\n",
      "Epoch 00013: val_loss did not improve\n",
      "Epoch 14/15\n",
      "47548/47548 [==============================] - 4s 78us/step - loss: 0.4612 - acc: 0.7923 - val_loss: 0.7179 - val_acc: 0.6491\n",
      "\n",
      "Epoch 00014: val_loss did not improve\n",
      "Epoch 15/15\n",
      "47548/47548 [==============================] - 4s 80us/step - loss: 0.4596 - acc: 0.7932 - val_loss: 0.5738 - val_acc: 0.7133\n",
      "\n",
      "Epoch 00015: val_loss improved from 0.58503 to 0.57382, saving model to weights_name.hdf5\n"
     ]
    },
    {
     "data": {
      "text/plain": [
       "<keras.callbacks.History at 0x7f5fa6432860>"
      ]
     },
     "execution_count": 173,
     "metadata": {},
     "output_type": "execute_result"
    }
   ],
   "source": [
    "checkpointer = ModelCheckpoint(filepath='weights_name.hdf5', verbose=1, save_best_only=True)\n",
    "model.fit(train_x,to_categorical(train_y),batch_size=100,epochs=15,validation_split=0.10,callbacks=[checkpointer])"
   ]
  },
  {
   "cell_type": "code",
   "execution_count": 174,
   "metadata": {},
   "outputs": [],
   "source": [
    "model=load_model('weights_name.hdf5')"
   ]
  },
  {
   "cell_type": "code",
   "execution_count": 175,
   "metadata": {},
   "outputs": [
    {
     "name": "stdout",
     "output_type": "stream",
     "text": [
      "11216/11216 [==============================] - 1s 105us/step\n"
     ]
    },
    {
     "data": {
      "text/plain": [
       "[0.4692988016359646, 0.7920827368824356]"
      ]
     },
     "execution_count": 175,
     "metadata": {},
     "output_type": "execute_result"
    }
   ],
   "source": [
    "model.evaluate(testX_pad,to_categorical(test_Y),batch_size=100)"
   ]
  },
  {
   "cell_type": "code",
   "execution_count": 176,
   "metadata": {},
   "outputs": [],
   "source": [
    "predicted = model.predict(testX_pad)\n",
    "predicted = np.argmax(predicted, axis=1)"
   ]
  },
  {
   "cell_type": "code",
   "execution_count": 184,
   "metadata": {},
   "outputs": [],
   "source": [
    "from sklearn.metrics import classification_report,confusion_matrix,accuracy_score\n",
    "import itertools"
   ]
  },
  {
   "cell_type": "code",
   "execution_count": 180,
   "metadata": {},
   "outputs": [],
   "source": [
    "def plot_confusion_matrix(cm, classes,title,cmap=plt.cm.Set2):\n",
    "    a=plt.imshow(cm, interpolation='nearest')\n",
    "    plt.title(title, fontsize=30)\n",
    "    plt.colorbar(fraction=.045)\n",
    "    tick_marks = np.arange(len(classes))\n",
    "    plt.xticks(tick_marks, classes, fontsize=20)\n",
    "    plt.yticks(tick_marks, classes, fontsize=20)\n",
    "    \n",
    "    fmt ='.2f'\n",
    "    thresh = 50\n",
    "\n",
    "    for i, j in itertools.product(range(cm.shape[0]), range(cm.shape[1])):\n",
    "        tmp=cm[i, j]*100/sum(cm[i])\n",
    "        plt.text(j, i,format(tmp,fmt), horizontalalignment=\"center\", \n",
    "                 color=\"white\" if tmp<thresh else \"black\", fontsize=40)\n",
    "    \n",
    "    plt.tight_layout()\n",
    "    plt.ylabel('True label', fontsize=30)\n",
    "    plt.xlabel('Predicted label', fontsize=30)\n",
    "\n",
    "    return plt"
   ]
  },
  {
   "cell_type": "code",
   "execution_count": null,
   "metadata": {},
   "outputs": [],
   "source": []
  },
  {
   "cell_type": "code",
   "execution_count": 183,
   "metadata": {},
   "outputs": [
    {
     "data": {
      "image/png": "[encoded data removed]",
      "text/plain": [
       "<matplotlib.figure.Figure at 0x7f5f9e883828>"
      ]
     },
     "metadata": {},
     "output_type": "display_data"
    }
   ],
   "source": [
    "cm=confusion_matrix(test_Y,predicted)\n",
    "fig = plt.figure(figsize=(10, 10))\n",
    "plot = plot_confusion_matrix(cm, classes=['Female','Male'],title='Confusion matrix')\n",
    "plt.show()"
   ]
  },
  {
   "cell_type": "code",
   "execution_count": 185,
   "metadata": {},
   "outputs": [
    {
     "name": "stdout",
     "output_type": "stream",
     "text": [
      "              precision    recall  f1-score   support\n",
      "\n",
      "           0       0.74      0.77      0.75      4600\n",
      "           1       0.83      0.81      0.82      6616\n",
      "\n",
      "    accuracy                           0.79     11216\n",
      "   macro avg       0.79      0.79      0.79     11216\n",
      "weighted avg       0.79      0.79      0.79     11216\n",
      "\n",
      "Accuracy: 79.21%\n"
     ]
    }
   ],
   "source": [
    "print(classification_report(test_Y,predicted))\n",
    "print('Accuracy: %.2f%%'%(accuracy_score(test_Y,predicted)*100))"
   ]
  },
  {
   "cell_type": "code",
   "execution_count": 198,
   "metadata": {},
   "outputs": [],
   "source": [
    "def predictName(name):\n",
    "    gender=['Female','Male']\n",
    "    n = 2\n",
    "    names = [(re.sub(r'[^a-zA-Z]', '', row)).lower() for row in name.split()]\n",
    "    tokenizedCharacter = [ ' '.join([name[idx:idx+n] for idx in range(len(name)-n+1)]) for name in names ]\n",
    "    \n",
    "#     finalData = [ [featuresDict_featureToIdx[feature] if feature in featuresDict_featureToIdx else 0 for feature in features] \n",
    "#               for features in tokenizedCharacter ]\n",
    "    \n",
    "    finalData=tokenizer.texts_to_sequences(tokenizedCharacter)\n",
    "    \n",
    "\n",
    "    \n",
    "    featureVector = pad_sequences(finalData, maxlen=5, dtype='int32', padding='pre', truncating='pre', value=0)\n",
    "\n",
    "    pred=model.predict(featureVector)\n",
    "\n",
    "    \n",
    "    result = [np.argmax(i) for i in pred]\n",
    "    result = max(result,key=result.count)\n",
    "    \n",
    "\n",
    "    print(\"name:\",name,gender[result])"
   ]
  },
  {
   "cell_type": "code",
   "execution_count": 211,
   "metadata": {},
   "outputs": [
    {
     "name": "stdout",
     "output_type": "stream",
     "text": [
      "name: toma Female\n"
     ]
    }
   ],
   "source": [
    "predictName('toma')"
   ]
  },
  {
   "cell_type": "code",
   "execution_count": null,
   "metadata": {},
   "outputs": [],
   "source": []
  }
 ],
 "metadata": {
  "kernelspec": {
   "display_name": "Python 3",
   "language": "python",
   "name": "python3"
  },
  "language_info": {
   "codemirror_mode": {
    "name": "ipython",
    "version": 3
   },
   "file_extension": ".py",
   "mimetype": "text/x-python",
   "name": "python",
   "nbconvert_exporter": "python",
   "pygments_lexer": "ipython3",
   "version": "3.5.4"
  }
 },
 "nbformat": 4,
 "nbformat_minor": 2
}
